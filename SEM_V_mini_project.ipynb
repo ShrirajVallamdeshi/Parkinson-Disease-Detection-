{
  "nbformat": 4,
  "nbformat_minor": 0,
  "metadata": {
    "colab": {
      "provenance": []
    },
    "kernelspec": {
      "name": "python3",
      "display_name": "Python 3"
    },
    "language_info": {
      "name": "python"
    }
  },
  "cells": [
    {
      "cell_type": "code",
      "execution_count": null,
      "metadata": {
        "id": "k1LnD26yHN65"
      },
      "outputs": [],
      "source": [
        "import os, sys\n",
        "import pandas as pd\n",
        "import random\n",
        "import numpy as np\n",
        "import matplotlib.pyplot as plt\n",
        "import seaborn as sns\n",
        "from sklearn.model_selection import train_test_split\n",
        "from sklearn.neighbors import KNeighborsClassifier\n",
        "from sklearn.preprocessing import StandardScaler\n",
        "from sklearn.model_selection import GridSearchCV\n",
        "from sklearn.ensemble import RandomForestClassifier\n",
        "from sklearn.metrics import accuracy_score\n",
        "from sklearn.naive_bayes import GaussianNB\n",
        "from sklearn.tree import DecisionTreeClassifier\n",
        "import xgboost as xgb\n",
        "from xgboost import XGBClassifier\n",
        "from sklearn.metrics import accuracy_score, f1_score, recall_score\n",
        "from sklearn.metrics import confusion_matrix"
      ]
    },
    {
      "cell_type": "code",
      "source": [
        "df = pd.read_csv('ParkinsonData/controlGroup.csv')\n",
        "df.head()\n",
        "df.info()"
      ],
      "metadata": {
        "colab": {
          "base_uri": "https://localhost:8080/",
          "height": 158
        },
        "id": "eBAfMxhJHTCJ",
        "outputId": "e7286cec-0332-435c-c2d7-cd45fe02d5eb"
      },
      "execution_count": 1,
      "outputs": [
        {
          "output_type": "error",
          "ename": "NameError",
          "evalue": "name 'pd' is not defined",
          "traceback": [
            "\u001b[0;31m---------------------------------------------------------------------------\u001b[0m",
            "\u001b[0;31mNameError\u001b[0m                                 Traceback (most recent call last)",
            "\u001b[0;32m<ipython-input-1-f39469dbc1cf>\u001b[0m in \u001b[0;36m<cell line: 1>\u001b[0;34m()\u001b[0m\n\u001b[0;32m----> 1\u001b[0;31m \u001b[0mdf\u001b[0m \u001b[0;34m=\u001b[0m \u001b[0mpd\u001b[0m\u001b[0;34m.\u001b[0m\u001b[0mread_csv\u001b[0m\u001b[0;34m(\u001b[0m\u001b[0;34m'ParkinsonData/controlGroup.csv'\u001b[0m\u001b[0;34m)\u001b[0m\u001b[0;34m\u001b[0m\u001b[0;34m\u001b[0m\u001b[0m\n\u001b[0m\u001b[1;32m      2\u001b[0m \u001b[0mdf\u001b[0m\u001b[0;34m.\u001b[0m\u001b[0mhead\u001b[0m\u001b[0;34m(\u001b[0m\u001b[0;34m)\u001b[0m\u001b[0;34m\u001b[0m\u001b[0;34m\u001b[0m\u001b[0m\n",
            "\u001b[0;31mNameError\u001b[0m: name 'pd' is not defined"
          ]
        }
      ]
    },
    {
      "cell_type": "code",
      "source": [
        "### Plotting number of healthy (0) and sick (1) persons\n",
        "sns.set_style(\"white\")\n",
        "a = sns.countplot(df['status'],\n",
        "              palette=[\"red\", \"blue\"])\n",
        "a.set(title = \"Barplot of of healthy (0) and sick (1) persons recordings\",\n",
        "     xlabel = 'Health status',\n",
        "     ylabel ='Number of Person')\n",
        "plt.xlabel('Health status')\n",
        "plt.ylabel('Number of Recordings')\n",
        "###Print\n",
        "h = df[df['status']==0]['status'].count()\n",
        "s = df[df['status']==1]['status'].count()\n",
        "\n",
        "print('Healthy :',h ,'Proportion:', round((h*100/(h+s)),2),\"%\")\n",
        "print('Sick:',s,'Proportion:' ,round((s*100/(h+s)), 2),\"%\" )\n",
        "plt.show();\n",
        "plt.savefig(\"d1.png\");"
      ],
      "metadata": {
        "id": "IOfKFcRaHTE8"
      },
      "execution_count": null,
      "outputs": []
    },
    {
      "cell_type": "code",
      "source": [
        "##set plot parameters\n",
        "fig, ax = plt.subplots(1,3,figsize=(15,9))\n",
        "sns.boxplot(x='status',y='MDVP:Fo(Hz)', data=df, width=0.3,\n",
        "                palette=[\"red\", \"blue\"],\n",
        "            ax=ax[0]).set(title = 'Average vocal fundamental frequency')\n",
        "sns.boxplot(x='status',y='MDVP:Flo(Hz)', data=df, width=0.3,\n",
        "                palette=[\"red\", \"blue\"],\n",
        "            ax=ax[1]).set(title = \"Minimum vocal fundamental frequency\")\n",
        "sns.boxplot(x='status',y='MDVP:Fhi(Hz)', data=df, width=0.3,\n",
        "                palette=[\"red\", \"blue\"],\n",
        "            ax=ax[2]).set(title = \"Maximum vocal fundamental frequency\")\n",
        "plt.show();"
      ],
      "metadata": {
        "id": "mSAmW3JbHTHq"
      },
      "execution_count": null,
      "outputs": []
    },
    {
      "cell_type": "code",
      "source": [
        "fig, axs = plt.subplots(ncols = 2, figsize = (20,9))\n",
        "col_names = [\"NHR\",\"HNR\"]\n",
        "for i in range(0, len(col_names)):\n",
        "    sns.boxplot(x='status', y=col_names[i], data=df,\n",
        "                width=0.3, palette=[\"red\", \"blue\"], ax = axs[i])\n",
        "plt.show();"
      ],
      "metadata": {
        "id": "UjZSCaYsHTKS"
      },
      "execution_count": null,
      "outputs": []
    },
    {
      "cell_type": "code",
      "source": [
        "correlation = round(df.corr(), 2)\n",
        "mask = np.zeros_like(correlation)\n",
        "mask[np.triu_indices_from(mask)] = True\n",
        "with sns.axes_style(\"white\"):\n",
        "    f, ax = plt.subplots(figsize=(20, 14))\n",
        "    ax = sns.heatmap(correlation, cmap=\"YlGnBu\", annot = True, mask=mask, square=True, vmin=0, vmax=1).set(title = 'Correlation matrix')\n",
        ""
      ],
      "metadata": {
        "id": "0ePsVzdDHTM5"
      },
      "execution_count": null,
      "outputs": []
    },
    {
      "cell_type": "code",
      "source": [
        "#Data preprocessing\n",
        "df = df.dropna()\n",
        "X = df.drop(['name', 'status'],axis=1)\n",
        "y = df[\"status\"]\n",
        "print(X.shape)\n",
        "print(y.shape)\n",
        "\n",
        "scaler = StandardScaler()\n",
        "X_scaled = scaler.fit_transform(X)\n",
        "\n",
        "#Data splitting\n",
        "X_train, X_test, y_train, y_test = train_test_split(X_scaled, y, test_size = 0.3, random_state = 150)\n",
        "print(X_train.shape, y_train.shape)\n",
        "print(X_test.shape, y_train.shape)"
      ],
      "metadata": {
        "id": "n3MTafQQHTPd"
      },
      "execution_count": null,
      "outputs": []
    },
    {
      "cell_type": "code",
      "source": [
        "## RandoForestClassification Model\n",
        "model = RandomForestClassifier(n_jobs=-1, random_state=50)\n",
        "parameters={'max_depth':[1,2,3,4,5,10],\n",
        " 'n_estimators':[1,2,3,4,5,10],\n",
        " 'max_features':[1,2,3,4,5,10],\n",
        " 'criterion':['gini'],\n",
        " 'bootstrap':[True],\n",
        " 'min_samples_leaf':[1,2,3,4]}\n",
        "\n",
        "mod_forest = GridSearchCV(estimator=model,param_grid=parameters, cv=5)\n",
        "\n",
        "%timeit\n",
        "\n",
        "mod_forest.fit(X_train,y_train)\n",
        "print(mod_forest.best_params_)"
      ],
      "metadata": {
        "id": "7A05wXAmHTR_"
      },
      "execution_count": null,
      "outputs": []
    },
    {
      "cell_type": "code",
      "source": [
        "\n",
        "##Test others models: Xgboost, KNN, Naive bayes, Decision Tree\n",
        "\n",
        "ESTIMATORS = {\"RandomForestClassifier\": RandomForestClassifier(bootstrap=True, criterion='gini', max_depth=5, max_features=10, min_samples_leaf=2, n_estimators=10, random_state=50),\n",
        " \"XgbClassifier\": xgb.XGBClassifier(max_depth = 3, n_estimators = 10, objective = 'binary:logistic'),\n",
        " \"K-nn\": KNeighborsClassifier(n_neighbors=3),\n",
        " \"Naive-bayes\": GaussianNB(),\n",
        " \"DecisionTreeClassifier\": DecisionTreeClassifier(criterion='entropy', random_state=10, max_depth=6)\n",
        "}"
      ],
      "metadata": {
        "id": "aysleQNyHTXO"
      },
      "execution_count": null,
      "outputs": []
    },
    {
      "cell_type": "code",
      "source": [
        "def plot_conf_mat(conf_mat):\n",
        "    \"\"\"\n",
        "    Plots a Confusion Matrix Using Seaborn heatmap.\n",
        "    \"\"\"\n",
        "    fig, ax = plt.subplots(figsize=(3,3))\n",
        "    ax = sns.heatmap(conf_mat,\n",
        "                    annot=True, # Annotate the boxes with conf_mat info\n",
        "                    cbar=False)\n",
        "    plt.xlabel(\"True label\")\n",
        "    plt.ylabel(\"Predicted label\")"
      ],
      "metadata": {
        "id": "YhonBDMPHTZ8"
      },
      "execution_count": null,
      "outputs": []
    },
    {
      "cell_type": "code",
      "source": [
        "def draw_cf(y_test, y_preds):\n",
        "    sns.set(font_scale=1.5)\n",
        "    conf_mat = confusion_matrix(y_test, y_preds)\n",
        "    plot_conf_mat(conf_mat);"
      ],
      "metadata": {
        "id": "JOWStSXSHTcQ"
      },
      "execution_count": null,
      "outputs": []
    },
    {
      "cell_type": "code",
      "source": [
        "ESTIMATORS = {\"RandomForestClassifier\": RandomForestClassifier(bootstrap=True, criterion='gini',  max_depth=5, max_features=10, min_samples_leaf=2, n_estimators=10, random_state=50),\n",
        " \"XgbClassifier\": xgb.XGBClassifier(max_depth = 3, n_estimators = 10, objective = 'binary:logistic'),\n",
        " \"K-nn\": KNeighborsClassifier(n_neighbors=3),\n",
        " \"Naive-bayes\": GaussianNB(),\n",
        " \"DecisionTreeClassifier\": DecisionTreeClassifier(criterion='entropy', random_state=10, max_depth=6)\n",
        "}"
      ],
      "metadata": {
        "id": "T9KCY3SsHwtp"
      },
      "execution_count": null,
      "outputs": []
    },
    {
      "cell_type": "code",
      "source": [
        "ESTIMATORS[\"RandomForestClassifier\"].fit(X_train, y_train)\n",
        "y_test_predict = ESTIMATORS[\"RandomForestClassifier\"].predict(X_test)\n",
        "draw_cf(y_test, y_test_predict)"
      ],
      "metadata": {
        "id": "eQhfnB8kHwwx"
      },
      "execution_count": null,
      "outputs": []
    },
    {
      "cell_type": "code",
      "source": [
        "ESTIMATORS[\"XgbClassifier\"].fit(X_train, y_train)\n",
        "y_test_predict = ESTIMATORS[\"XgbClassifier\"].predict(X_test)\n",
        "draw_cf(y_test, y_test_predict)"
      ],
      "metadata": {
        "id": "m5LKkpGiHw6C"
      },
      "execution_count": null,
      "outputs": []
    },
    {
      "cell_type": "code",
      "source": [
        "ESTIMATORS[\"K-nn\"].fit(X_train, y_train)\n",
        "y_test_predict = ESTIMATORS[\"K-nn\"].predict(X_test)\n",
        "draw_cf(y_test, y_test_predict)"
      ],
      "metadata": {
        "id": "q7pcS4vAH6Mp"
      },
      "execution_count": null,
      "outputs": []
    },
    {
      "cell_type": "code",
      "source": [
        "ESTIMATORS[\"Naive-bayes\"].fit(X_train, y_train)\n",
        "y_test_predict = ESTIMATORS[\"Naive-bayes\"].predict(X_test)\n",
        "draw_cf(y_test, y_test_predict)"
      ],
      "metadata": {
        "id": "C0isnw6kH6Pe"
      },
      "execution_count": null,
      "outputs": []
    },
    {
      "cell_type": "code",
      "source": [
        "ESTIMATORS[\"DecisionTreeClassifier\"].fit(X_train, y_train)\n",
        "y_test_predict = ESTIMATORS[\"DecisionTreeClassifier\"].predict(X_test)\n",
        "draw_cf(y_test, y_test_predict)"
      ],
      "metadata": {
        "id": "cP6xGKlzH6SH"
      },
      "execution_count": null,
      "outputs": []
    },
    {
      "cell_type": "code",
      "source": [
        "##Get accuracy and f1_score\n",
        "\n",
        "result = pd.DataFrame()\n",
        "for name, estimator in ESTIMATORS.items():\n",
        "    estimator.fit(X_train, y_train)\n",
        "    y_test_predict = estimator.predict(X_test)\n",
        "    accur = estimator.score(X_test, y_test)\n",
        "\n",
        "    f1Scroe = f1_score(y_test,y_test_predict)\n",
        "    result = result.append({'Model' : name,\n",
        "                            'F1-Score (%)' : f1_score(y_test,y_test_predict)*100,\n",
        "                            'Accuracy (%)' : accuracy_score(y_test, y_test_predict)*100,\n",
        "                            'Recall (%)' : recall_score(y_test, y_test_predict)*100},\n",
        "                            ignore_index = True)"
      ],
      "metadata": {
        "id": "WAXDMlr3H6U_"
      },
      "execution_count": null,
      "outputs": []
    },
    {
      "cell_type": "code",
      "source": [
        "result.plot(kind=\"bar\");"
      ],
      "metadata": {
        "id": "NpKa4SAqIDL6"
      },
      "execution_count": null,
      "outputs": []
    },
    {
      "cell_type": "code",
      "source": [],
      "metadata": {
        "id": "cUL98anrIDRp"
      },
      "execution_count": null,
      "outputs": []
    }
  ]
}